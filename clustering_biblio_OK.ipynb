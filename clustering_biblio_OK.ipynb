{
 "cells": [
  {
   "cell_type": "code",
   "execution_count": 1,
   "metadata": {},
   "outputs": [
    {
     "name": "stdout",
     "output_type": "stream",
     "text": [
      "3.8.5\n"
     ]
    }
   ],
   "source": [
    "from platform import python_version\n",
    "\n",
    "print(python_version())"
   ]
  },
  {
   "cell_type": "code",
   "execution_count": 2,
   "metadata": {
    "scrolled": true
   },
   "outputs": [],
   "source": [
    "#!pip install refextract\n",
    "#! pip install tika\n",
    "#!pip install python-magic-bin==0.4.14\n",
    "#!pip install pdfx"
   ]
  },
  {
   "cell_type": "code",
   "execution_count": 3,
   "metadata": {},
   "outputs": [
    {
     "name": "stderr",
     "output_type": "stream",
     "text": [
      "C:\\Users\\alice\\anaconda3\\lib\\site-packages\\requests\\__init__.py:89: RequestsDependencyWarning: urllib3 (1.25.11) or chardet (4.0.0) doesn't match a supported version!\n",
      "  warnings.warn(\"urllib3 ({}) or chardet ({}) doesn't match a supported \"\n",
      "C:\\Users\\alice\\anaconda3\\lib\\site-packages\\numpy\\_distributor_init.py:30: UserWarning: loaded more than 1 DLL from .libs:\n",
      "C:\\Users\\alice\\anaconda3\\lib\\site-packages\\numpy\\.libs\\libopenblas.EL2C6PLE4ZYW3ECEVIV3OXXGRN2NRFM2.gfortran-win_amd64.dll\n",
      "C:\\Users\\alice\\anaconda3\\lib\\site-packages\\numpy\\.libs\\libopenblas.GK7GX5KEQ4F6UYO3P26ULGBQYHGQO7J4.gfortran-win_amd64.dll\n",
      "C:\\Users\\alice\\anaconda3\\lib\\site-packages\\numpy\\.libs\\libopenblas.PYQHXLVVQ7VESDPUVUADXEVJOBGHJPAY.gfortran-win_amd64.dll\n",
      "C:\\Users\\alice\\anaconda3\\lib\\site-packages\\numpy\\.libs\\libopenblas.QVLO2T66WEPI7JZ63PS3HMOHFEY472BC.gfortran-win_amd64.dll\n",
      "C:\\Users\\alice\\anaconda3\\lib\\site-packages\\numpy\\.libs\\libopenblas.WCDJNK7YVMPZQ2ME2ZZHJJRJ3JIKNDB7.gfortran-win_amd64.dll\n",
      "C:\\Users\\alice\\anaconda3\\lib\\site-packages\\numpy\\.libs\\libopenblas.XWYDX2IKJW2NMTWSFYNGFUWKQU3LYTCZ.gfortran-win_amd64.dll\n",
      "  warnings.warn(\"loaded more than 1 DLL from .libs:\"\n"
     ]
    }
   ],
   "source": [
    "from tika import parser \n",
    "import re\n",
    "from re import search\n",
    "import os\n",
    "import pandas as pd\n",
    "from sklearn.decomposition import PCA\n",
    "import pdfx\n"
   ]
  },
  {
   "cell_type": "code",
   "execution_count": 4,
   "metadata": {},
   "outputs": [],
   "source": [
    "ARTICLE = 1\n",
    "ABSTRACT = 2\n",
    "REFERENCES = 3\n",
    "\n",
    "FLAG = ARTICLE\n",
    "\n",
    "pd.options.display.max_rows = 200\n",
    "pd.set_option('display.max_colwidth', None)"
   ]
  },
  {
   "cell_type": "code",
   "execution_count": 5,
   "metadata": {},
   "outputs": [],
   "source": [
    "path = \"C:\\\\Users\\\\alice\\\\Desktop\\\\papers3\"#\"H:\\\\Dropbox\\\\Personale\\\\Ricerca\\\\XAI\\\\00. A.Gatti\\\\Quantitative AI\\\\GreenAI\\\\Articolo\\\\Bibliografia\\TUTTI\""
   ]
  },
  {
   "cell_type": "code",
   "execution_count": 6,
   "metadata": {},
   "outputs": [],
   "source": [
    "def get_content(filename):\n",
    "     raw = parser.from_file(filename)\n",
    "     return raw['content'].lower()"
   ]
  },
  {
   "cell_type": "code",
   "execution_count": 7,
   "metadata": {},
   "outputs": [],
   "source": [
    "def get_reference(filename):\n",
    "    raw = parser.from_file(filename)\n",
    "    text = raw['content'].lower()\n",
    "\n",
    "    # get only text after word `References`\n",
    "    pos = text.lower().find('references')\n",
    "    return text[pos+len('references '):]\n",
    "    \n",
    "    # print line by line\n",
    "    #for line in text.split('\\n\\n'):\n",
    "        #print(line)\n",
    "        #print('---')"
   ]
  },
  {
   "cell_type": "code",
   "execution_count": 8,
   "metadata": {},
   "outputs": [],
   "source": [
    "def get_references():\n",
    "    short, names, articles = find_all_files()\n",
    "    references = []\n",
    "    \n",
    "    for article in articles:\n",
    "        references.append(get_reference(article))\n",
    "\n",
    "    return short, names, articles, references"
   ]
  },
  {
   "cell_type": "code",
   "execution_count": 9,
   "metadata": {},
   "outputs": [],
   "source": [
    "def get_abstract(filename):\n",
    "    start = 'abstract'\n",
    "    end = 'introduction'\n",
    "    \n",
    "    raw = parser.from_file(filename)\n",
    "    s = raw['content'].lower()\n",
    "    \n",
    "    if search(start, s):\n",
    "        s = s.split(start)[1].split(end)[0]\n",
    "        #res = re.sub('[^A-Za-z0-9]+', ' ', s).strip()\n",
    "        res = re.sub('[^A-Za-z]+', ' ', s).strip()\n",
    "    else:\n",
    "        res = \"\"\n",
    "\n",
    "    return res"
   ]
  },
  {
   "cell_type": "code",
   "execution_count": 10,
   "metadata": {},
   "outputs": [],
   "source": [
    "def find_all_files():\n",
    "    shortnamelist =[]\n",
    "    namelist =[]\n",
    "    filelist = []\n",
    "\n",
    "    for root, dirs, files in os.walk(path):\n",
    "        for file in files:\n",
    "            if(file.endswith(\".pdf\")):\n",
    "                filelist.append(os.path.join(root,file))\n",
    "                name = re.sub('[^A-Z a-z]+', ' ', file).strip()\n",
    "                namelist.append(name)\n",
    "                shortnamelist.append(name[0:4])\n",
    "    return shortnamelist, namelist, filelist"
   ]
  },
  {
   "cell_type": "code",
   "execution_count": 11,
   "metadata": {},
   "outputs": [],
   "source": [
    "def get_abstracts():\n",
    "    short, names, articles = find_all_files()\n",
    "    abstracts = []\n",
    "    \n",
    "    for article in articles:\n",
    "        abstracts.append(get_abstract(article))\n",
    "\n",
    "    return short, names, articles, abstracts"
   ]
  },
  {
   "cell_type": "code",
   "execution_count": 12,
   "metadata": {},
   "outputs": [],
   "source": [
    "def get_contents():\n",
    "    short, names, articles = find_all_files()\n",
    "    article_content = []\n",
    "    \n",
    "    for article in articles:\n",
    "        article_content.append(get_content(article))\n",
    "\n",
    "    return short, names, articles, article_content"
   ]
  },
  {
   "cell_type": "code",
   "execution_count": 13,
   "metadata": {},
   "outputs": [],
   "source": [
    "from sklearn.feature_extraction.text import TfidfVectorizer\n",
    "vectorizer = TfidfVectorizer(stop_words={'english'})"
   ]
  },
  {
   "cell_type": "code",
   "execution_count": 14,
   "metadata": {},
   "outputs": [],
   "source": [
    "if FLAG == ARTICLE:\n",
    "    shortnames, names, articles, articles_content = get_contents()\n",
    "    X = vectorizer.fit_transform(articles_content)\n",
    "else:\n",
    "    if FLAG == ABSTRACT:\n",
    "        shortnames, names, articles, abstracts = get_abstracts()\n",
    "        X = vectorizer.fit_transform(abstracts)\n",
    "    else:\n",
    "        shortnames, names, articles, references = get_references()\n",
    "        X = vectorizer.fit_transform(references)\n"
   ]
  },
  {
   "cell_type": "code",
   "execution_count": 15,
   "metadata": {},
   "outputs": [
    {
     "name": "stdout",
     "output_type": "stream",
     "text": [
      "A Gr A Green er  World for A I pdf\n",
      "A Sy A Systematic Review of Green AI pdf\n",
      "An e An empirical study of practitioners  perspectives on green software engineering pdf\n",
      "Carb Carbon Emissions and Large Neural Network Training pdf\n",
      "Carb Carbontracker Tracking and Predicting the Carbon Footprint of Training Deep Learning Models pdf\n",
      "Chas Chasing Carbon The Elusive Environmental Footprint of Computing pdf\n",
      "Data Data Centric Green AI an exploratory empirical study pdf\n",
      "Ener Energy and Policy Considerations for Deep Learning in NLP pdf\n",
      "Ener Energy and Policy Considerations for Modern Deep Learning Research pdf\n",
      "Ener EnergyVis Interactively Tracking and Exploring Energy Consumption for ML Models pdf\n",
      "Gree Green AI Do Deep Learning Frameworks Have Different Costs pdf\n",
      "Gree Green AI Schwartz  pdf\n",
      "Gree Green AI Schwartz   versione pi  recente leggermente diversa pdf\n",
      "Gree Green Algorithms Quantifying the carbon footprint of computation pdf\n",
      "Is t Is the future of AI sustainable A case study of the EU pdf\n",
      "Meas Measuring the environmental impacts of artificial intelligence compute and applications pdf\n",
      "Quan Quantifying the Carbon Emissions of Machine Learning pdf\n",
      "Quan Quantitative AI Risk Assessments pdf\n",
      "Sust Sustainability challenges of Artificial Intelligence and Policy Implications pdf\n",
      "Sust Sustainable AI AI for sustainability and the sustainability of AI pdf\n",
      "Sust Sustainable AI Environmental Implications Challenges and Opportunities pdf\n",
      "The  The Carbon Footprint of Machine Learning Training Will Plateau  Then Shrink pdf\n",
      "The  The role of artificial intelligence in achieving the pdf\n",
      "Towa Towards Sustainable Artificial Intelligence An Overview of Environmental Protection Uses and Issues pdf\n",
      "Towa Towards the Systematic Reporting of the Energy and Carbon Footprints of Machine Learning pdf\n"
     ]
    }
   ],
   "source": [
    "for index in range(len(shortnames)):\n",
    "    print(shortnames[index], names[index])"
   ]
  },
  {
   "cell_type": "code",
   "execution_count": 16,
   "metadata": {},
   "outputs": [
    {
     "data": {
      "image/png": "[encoded data removed]",
      "text/plain": [
       "<Figure size 432x288 with 1 Axes>"
      ]
     },
     "metadata": {
      "needs_background": "light"
     },
     "output_type": "display_data"
    }
   ],
   "source": [
    "import matplotlib.pyplot as plt\n",
    "from sklearn.cluster import KMeans\n",
    "Sum_of_squared_distances = []\n",
    "K = range(2,10)\n",
    "for k in K:\n",
    "   km = KMeans(n_clusters=k, init='random', max_iter=200, n_init=10)\n",
    "   km = km.fit(X)\n",
    "   Sum_of_squared_distances.append(km.inertia_)\n",
    "plt.plot(K, Sum_of_squared_distances, 'bx-')\n",
    "plt.xlabel('k')\n",
    "plt.ylabel('Sum_of_squared_distances')\n",
    "plt.title('Elbow Method For Optimal k')\n",
    "plt.show()"
   ]
  },
  {
   "cell_type": "code",
   "execution_count": 17,
   "metadata": {},
   "outputs": [
    {
     "data": {
      "text/plain": [
       "array([4, 3, 4, 4, 0, 4, 3, 3, 3, 2, 0, 3, 3, 0, 1, 1, 4, 1, 1, 1, 3, 4,\n",
       "       1, 1, 4])"
      ]
     },
     "execution_count": 17,
     "metadata": {},
     "output_type": "execute_result"
    }
   ],
   "source": [
    "true_k = 5\n",
    "model = KMeans(n_clusters=true_k, init='k-means++', max_iter=200, n_init=10)\n",
    "model.fit(X)\n",
    "labels=model.labels_\n",
    "labels"
   ]
  },
  {
   "cell_type": "code",
   "execution_count": 18,
   "metadata": {},
   "outputs": [],
   "source": [
    "df = pd.DataFrame(list(zip(names,labels)),columns=['Article','Cluster'])\n",
    "df_s= df.sort_values(by=['Cluster'])\n",
    "df_s.to_csv(\"clusters.csv\")\n"
   ]
  },
  {
   "cell_type": "code",
   "execution_count": 19,
   "metadata": {},
   "outputs": [],
   "source": [
    "#pdf = pdfx.PDFx(\"01. Energy and Policy Considerations for Deep Learning in NLP.pdf\")\n",
    "#metadata = pdf.get_metadata()\n",
    "#references_list = pdf.get_references()\n",
    "#references_dict = pdf.get_references_as_dict()\n",
    "#pdf.download_pdfs(\"target-directory\")"
   ]
  },
  {
   "cell_type": "code",
   "execution_count": 21,
   "metadata": {},
   "outputs": [],
   "source": [
    "for i in range(10):\n",
    "    true_k = 5\n",
    "    model = KMeans(n_clusters=true_k, init='k-means++', max_iter=200, n_init=10)\n",
    "    model.fit(X)\n",
    "    labels=model.labels_\n",
    "    # labels\n",
    "    df = pd.DataFrame(list(zip(names,labels)),columns=['Article','Cluster'])\n",
    "    df_s= df.sort_values(by=['Cluster'])\n",
    "    df_s.to_csv(\"clusters\"+str(i)+\".csv\")"
   ]
  },
  {
   "cell_type": "code",
   "execution_count": null,
   "metadata": {},
   "outputs": [],
   "source": []
  }
 ],
 "metadata": {
  "kernelspec": {
   "display_name": "Python 3",
   "language": "python",
   "name": "python3"
  },
  "language_info": {
   "codemirror_mode": {
    "name": "ipython",
    "version": 3
   },
   "file_extension": ".py",
   "mimetype": "text/x-python",
   "name": "python",
   "nbconvert_exporter": "python",
   "pygments_lexer": "ipython3",
   "version": "3.8.5"
  }
 },
 "nbformat": 4,
 "nbformat_minor": 5
}
