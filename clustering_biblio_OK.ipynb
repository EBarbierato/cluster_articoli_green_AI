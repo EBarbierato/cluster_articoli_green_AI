{
 "cells": [
  {
   "cell_type": "code",
   "execution_count": 1,
   "id": "f59edf4b",
   "metadata": {},
   "outputs": [
    {
     "name": "stdout",
     "output_type": "stream",
     "text": [
      "3.9.13\n"
     ]
    }
   ],
   "source": [
    "from platform import python_version\n",
    "\n",
    "print(python_version())"
   ]
  },
  {
   "cell_type": "code",
   "execution_count": 2,
   "id": "e28dbb31",
   "metadata": {
    "scrolled": true
   },
   "outputs": [
    {
     "name": "stdout",
     "output_type": "stream",
     "text": [
      "Requirement already satisfied: refextract in c:\\users\\enric\\anaconda3\\lib\\site-packages (1.1.4)\n",
      "Requirement already satisfied: six>=1.10.0,~=1.0 in c:\\users\\enric\\anaconda3\\lib\\site-packages (from refextract) (1.16.0)\n",
      "Requirement already satisfied: python-magic>=0.4.15,~=0.0 in c:\\users\\enric\\anaconda3\\lib\\site-packages (from refextract) (0.4.27)\n",
      "Requirement already satisfied: requests>=2.18.4,~=2.0 in c:\\users\\enric\\appdata\\roaming\\python\\python39\\site-packages (from refextract) (2.31.0)\n",
      "Requirement already satisfied: PyPDF2>=1.26.0,~=1.0 in c:\\users\\enric\\anaconda3\\lib\\site-packages (from refextract) (1.28.6)\n",
      "Requirement already satisfied: inspire-utils>=3.0.0,~=3.0 in c:\\users\\enric\\anaconda3\\lib\\site-packages (from refextract) (3.0.33)\n",
      "Requirement already satisfied: autosemver>=0.5.3,~=0.0 in c:\\users\\enric\\anaconda3\\lib\\site-packages (from refextract) (0.5.5)\n",
      "Requirement already satisfied: unidecode>=1.0.22,~=1.0 in c:\\users\\enric\\anaconda3\\lib\\site-packages (from refextract) (1.2.0)\n",
      "Requirement already satisfied: dulwich<0.20,>=0.19.6 in c:\\users\\enric\\anaconda3\\lib\\site-packages (from autosemver>=0.5.3,~=0.0->refextract) (0.19.16)\n",
      "Requirement already satisfied: urllib3<=1.26.12,~=1.0 in c:\\users\\enric\\anaconda3\\lib\\site-packages (from inspire-utils>=3.0.0,~=3.0->refextract) (1.26.11)\n",
      "Requirement already satisfied: lxml>=4.4.0,~=4.0 in c:\\users\\enric\\anaconda3\\lib\\site-packages (from inspire-utils>=3.0.0,~=3.0->refextract) (4.9.1)\n",
      "Requirement already satisfied: nameparser>=0.5.3,~=0.0 in c:\\users\\enric\\anaconda3\\lib\\site-packages (from inspire-utils>=3.0.0,~=3.0->refextract) (0.5.8)\n",
      "Requirement already satisfied: python-dateutil>=2.6.1,~=2.0 in c:\\users\\enric\\anaconda3\\lib\\site-packages (from inspire-utils>=3.0.0,~=3.0->refextract) (2.8.2)\n",
      "Requirement already satisfied: babel>=2.5.1,~=2.0 in c:\\users\\enric\\anaconda3\\lib\\site-packages (from inspire-utils>=3.0.0,~=3.0->refextract) (2.9.1)\n",
      "Requirement already satisfied: elasticsearch-dsl~=7.1 in c:\\users\\enric\\anaconda3\\lib\\site-packages (from inspire-utils>=3.0.0,~=3.0->refextract) (7.4.1)\n",
      "Requirement already satisfied: elasticsearch==7.1.0 in c:\\users\\enric\\anaconda3\\lib\\site-packages (from inspire-utils>=3.0.0,~=3.0->refextract) (7.1.0)\n",
      "Requirement already satisfied: charset-normalizer<4,>=2 in c:\\users\\enric\\appdata\\roaming\\python\\python39\\site-packages (from requests>=2.18.4,~=2.0->refextract) (3.1.0)\n",
      "Requirement already satisfied: certifi>=2017.4.17 in c:\\users\\enric\\anaconda3\\lib\\site-packages (from requests>=2.18.4,~=2.0->refextract) (2022.9.14)\n",
      "Requirement already satisfied: idna<4,>=2.5 in c:\\users\\enric\\anaconda3\\lib\\site-packages (from requests>=2.18.4,~=2.0->refextract) (3.3)\n",
      "Requirement already satisfied: pytz>=2015.7 in c:\\users\\enric\\anaconda3\\lib\\site-packages (from babel>=2.5.1,~=2.0->inspire-utils>=3.0.0,~=3.0->refextract) (2022.1)\n"
     ]
    },
    {
     "name": "stderr",
     "output_type": "stream",
     "text": [
      "\n",
      "[notice] A new release of pip available: 22.3.1 -> 23.1.2\n",
      "[notice] To update, run: python.exe -m pip install --upgrade pip\n"
     ]
    },
    {
     "name": "stdout",
     "output_type": "stream",
     "text": [
      "Requirement already satisfied: tika in c:\\users\\enric\\anaconda3\\lib\\site-packages (2.6.0)\n",
      "Requirement already satisfied: setuptools in c:\\users\\enric\\anaconda3\\lib\\site-packages (from tika) (63.4.1)\n",
      "Requirement already satisfied: requests in c:\\users\\enric\\appdata\\roaming\\python\\python39\\site-packages (from tika) (2.31.0)\n",
      "Requirement already satisfied: certifi>=2017.4.17 in c:\\users\\enric\\anaconda3\\lib\\site-packages (from requests->tika) (2022.9.14)\n",
      "Requirement already satisfied: urllib3<3,>=1.21.1 in c:\\users\\enric\\anaconda3\\lib\\site-packages (from requests->tika) (1.26.11)\n",
      "Requirement already satisfied: charset-normalizer<4,>=2 in c:\\users\\enric\\appdata\\roaming\\python\\python39\\site-packages (from requests->tika) (3.1.0)\n",
      "Requirement already satisfied: idna<4,>=2.5 in c:\\users\\enric\\anaconda3\\lib\\site-packages (from requests->tika) (3.3)\n"
     ]
    },
    {
     "name": "stderr",
     "output_type": "stream",
     "text": [
      "\n",
      "[notice] A new release of pip available: 22.3.1 -> 23.1.2\n",
      "[notice] To update, run: python.exe -m pip install --upgrade pip\n"
     ]
    },
    {
     "name": "stdout",
     "output_type": "stream",
     "text": [
      "Requirement already satisfied: python-magic-bin==0.4.14 in c:\\users\\enric\\anaconda3\\lib\\site-packages (0.4.14)\n"
     ]
    },
    {
     "name": "stderr",
     "output_type": "stream",
     "text": [
      "\n",
      "[notice] A new release of pip available: 22.3.1 -> 23.1.2\n",
      "[notice] To update, run: python.exe -m pip install --upgrade pip\n"
     ]
    },
    {
     "name": "stdout",
     "output_type": "stream",
     "text": [
      "Requirement already satisfied: pdfx in c:\\users\\enric\\anaconda3\\lib\\site-packages (1.4.1)\n",
      "Requirement already satisfied: pdfminer.six==20201018 in c:\\users\\enric\\anaconda3\\lib\\site-packages (from pdfx) (20201018)\n",
      "Collecting chardet==4.0.0\n",
      "  Downloading chardet-4.0.0-py2.py3-none-any.whl (178 kB)\n",
      "     -------------------------------------- 178.7/178.7 kB 1.8 MB/s eta 0:00:00\n",
      "Requirement already satisfied: sortedcontainers in c:\\users\\enric\\anaconda3\\lib\\site-packages (from pdfminer.six==20201018->pdfx) (2.4.0)\n",
      "Requirement already satisfied: cryptography in c:\\users\\enric\\anaconda3\\lib\\site-packages (from pdfminer.six==20201018->pdfx) (37.0.1)\n",
      "Requirement already satisfied: cffi>=1.12 in c:\\users\\enric\\anaconda3\\lib\\site-packages (from cryptography->pdfminer.six==20201018->pdfx) (1.15.1)\n",
      "Requirement already satisfied: pycparser in c:\\users\\enric\\anaconda3\\lib\\site-packages (from cffi>=1.12->cryptography->pdfminer.six==20201018->pdfx) (2.21)\n",
      "Installing collected packages: chardet\n",
      "  Attempting uninstall: chardet\n",
      "    Found existing installation: chardet 5.1.0\n",
      "    Uninstalling chardet-5.1.0:\n",
      "      Successfully uninstalled chardet-5.1.0\n",
      "Successfully installed chardet-4.0.0\n"
     ]
    },
    {
     "name": "stderr",
     "output_type": "stream",
     "text": [
      "ERROR: pip's dependency resolver does not currently take into account all the packages that are installed. This behaviour is the source of the following dependency conflicts.\n",
      "spyder 5.2.2 requires pyqt5<5.13, which is not installed.\n",
      "spyder 5.2.2 requires pyqtwebengine<5.13, which is not installed.\n",
      "tox 4.6.0 requires chardet>=5.1, but you have chardet 4.0.0 which is incompatible.\n"
     ]
    }
   ],
   "source": [
    "!pip install refextract\n",
    "! pip install tika\n",
    "!pip install python-magic-bin==0.4.14\n",
    "!pip install pdfx"
   ]
  },
  {
   "cell_type": "code",
   "execution_count": 3,
   "id": "4151d47f",
   "metadata": {},
   "outputs": [],
   "source": [
    "from tika import parser \n",
    "import re\n",
    "from re import search\n",
    "import os\n",
    "import pandas as pd\n",
    "from sklearn.decomposition import PCA\n",
    "import pdfx\n"
   ]
  },
  {
   "cell_type": "code",
   "execution_count": 4,
   "id": "d8d100a2",
   "metadata": {},
   "outputs": [],
   "source": [
    "ARTICLE = 1\n",
    "ABSTRACT = 2\n",
    "REFERENCES = 3\n",
    "\n",
    "FLAG = ARTICLE\n",
    "\n",
    "pd.options.display.max_rows = 200\n",
    "pd.set_option('display.max_colwidth', None)"
   ]
  },
  {
   "cell_type": "code",
   "execution_count": 5,
   "id": "ba4a8910",
   "metadata": {},
   "outputs": [],
   "source": [
    "path = \"H:\\\\Dropbox\\\\Personale\\\\Ricerca\\\\XAI\\\\00. A.Gatti\\\\Quantitative AI\\\\GreenAI\\\\Articolo\\\\Bibliografia\\TUTTI\""
   ]
  },
  {
   "cell_type": "code",
   "execution_count": 6,
   "id": "a033f084",
   "metadata": {},
   "outputs": [],
   "source": [
    "def get_content(filename):\n",
    "     raw = parser.from_file(filename)\n",
    "     return raw['content'].lower()"
   ]
  },
  {
   "cell_type": "code",
   "execution_count": 7,
   "id": "d33d4176",
   "metadata": {},
   "outputs": [],
   "source": [
    "def get_reference(filename):\n",
    "    raw = parser.from_file(filename)\n",
    "    text = raw['content'].lower()\n",
    "\n",
    "    # get only text after word `References`\n",
    "    pos = text.lower().find('references')\n",
    "    return text[pos+len('references '):]\n",
    "    \n",
    "    # print line by line\n",
    "    #for line in text.split('\\n\\n'):\n",
    "        #print(line)\n",
    "        #print('---')"
   ]
  },
  {
   "cell_type": "code",
   "execution_count": 8,
   "id": "31596316",
   "metadata": {},
   "outputs": [],
   "source": [
    "def get_references():\n",
    "    short, names, articles = find_all_files()\n",
    "    references = []\n",
    "    \n",
    "    for article in articles:\n",
    "        references.append(get_reference(article))\n",
    "\n",
    "    return short, names, articles, references"
   ]
  },
  {
   "cell_type": "code",
   "execution_count": 9,
   "id": "d8601738",
   "metadata": {},
   "outputs": [],
   "source": [
    "def get_abstract(filename):\n",
    "    start = 'abstract'\n",
    "    end = 'introduction'\n",
    "    \n",
    "    raw = parser.from_file(filename)\n",
    "    s = raw['content'].lower()\n",
    "    \n",
    "    if search(start, s):\n",
    "        s = s.split(start)[1].split(end)[0]\n",
    "        #res = re.sub('[^A-Za-z0-9]+', ' ', s).strip()\n",
    "        res = re.sub('[^A-Za-z]+', ' ', s).strip()\n",
    "    else:\n",
    "        res = \"\"\n",
    "\n",
    "    return res"
   ]
  },
  {
   "cell_type": "code",
   "execution_count": 10,
   "id": "701bb995",
   "metadata": {},
   "outputs": [],
   "source": [
    "def find_all_files():\n",
    "    shortnamelist =[]\n",
    "    namelist =[]\n",
    "    filelist = []\n",
    "\n",
    "    for root, dirs, files in os.walk(path):\n",
    "        for file in files:\n",
    "            if(file.endswith(\".pdf\")):\n",
    "                filelist.append(os.path.join(root,file))\n",
    "                name = re.sub('[^A-Z a-z]+', ' ', file).strip()\n",
    "                namelist.append(name)\n",
    "                shortnamelist.append(name[0:4])\n",
    "    return shortnamelist, namelist, filelist"
   ]
  },
  {
   "cell_type": "code",
   "execution_count": 11,
   "id": "68184a79",
   "metadata": {},
   "outputs": [],
   "source": [
    "def get_abstracts():\n",
    "    short, names, articles = find_all_files()\n",
    "    abstracts = []\n",
    "    \n",
    "    for article in articles:\n",
    "        abstracts.append(get_abstract(article))\n",
    "\n",
    "    return short, names, articles, abstracts"
   ]
  },
  {
   "cell_type": "code",
   "execution_count": 12,
   "id": "b45c813b",
   "metadata": {},
   "outputs": [],
   "source": [
    "def get_contents():\n",
    "    short, names, articles = find_all_files()\n",
    "    article_content = []\n",
    "    \n",
    "    for article in articles:\n",
    "        article_content.append(get_content(article))\n",
    "\n",
    "    return short, names, articles, article_content"
   ]
  },
  {
   "cell_type": "code",
   "execution_count": 13,
   "id": "b0c55fbb",
   "metadata": {},
   "outputs": [],
   "source": [
    "from sklearn.feature_extraction.text import TfidfVectorizer\n",
    "vectorizer = TfidfVectorizer(stop_words={'english'})"
   ]
  },
  {
   "cell_type": "code",
   "execution_count": 14,
   "id": "a7218f08",
   "metadata": {},
   "outputs": [
    {
     "name": "stderr",
     "output_type": "stream",
     "text": [
      "2023-06-06 12:50:19,540 [MainThread  ] [INFO ]  Retrieving http://search.maven.org/remotecontent?filepath=org/apache/tika/tika-server-standard/2.6.0/tika-server-standard-2.6.0.jar to C:\\Users\\Enric\\AppData\\Local\\Temp\\tika-server.jar.\n",
      "2023-06-06 12:51:04,507 [MainThread  ] [INFO ]  Retrieving http://search.maven.org/remotecontent?filepath=org/apache/tika/tika-server-standard/2.6.0/tika-server-standard-2.6.0.jar.md5 to C:\\Users\\Enric\\AppData\\Local\\Temp\\tika-server.jar.md5.\n",
      "2023-06-06 12:51:07,791 [MainThread  ] [WARNI]  Failed to see startup log message; retrying...\n",
      "2023-06-06 12:51:12,804 [MainThread  ] [WARNI]  Failed to see startup log message; retrying...\n"
     ]
    }
   ],
   "source": [
    "if FLAG == ARTICLE:\n",
    "    shortnames, names, articles, articles_content = get_contents()\n",
    "    X = vectorizer.fit_transform(articles_content)\n",
    "else:\n",
    "    if FLAG == ABSTRACT:\n",
    "        shortnames, names, articles, abstracts = get_abstracts()\n",
    "        X = vectorizer.fit_transform(abstracts)\n",
    "    else:\n",
    "        shortnames, names, articles, references = get_references()\n",
    "        X = vectorizer.fit_transform(references)\n"
   ]
  },
  {
   "cell_type": "code",
   "execution_count": 15,
   "id": "4f1dea30",
   "metadata": {},
   "outputs": [
    {
     "name": "stdout",
     "output_type": "stream",
     "text": [
      "A de A definition of carbon footprint pdf\n",
      "A Gr A Green er  World for A I pdf\n",
      "A Lo A Logical Calculus of Ideas Immanent in Nervous Activity pdf\n",
      "A Ne A New Golden Age for Computer Architecture pdf\n",
      "A No A Novel Connectionist System for Unconstrained Handwriting Recognition pdf\n",
      "A Pr A Primer in BERTology What We Know About How BERT Works pdf\n",
      "A qu A quantitative evaluation of explainable AI methods using the depth of decision tree pdf\n",
      "A Sh A Shift Invariant Neural Network for the Lung Field Segmentation in Chest Radiography pdf\n",
      "A Su A Survey of Neural Network Compression pdf\n",
      "A Su A Survey of Reinforcement Learning Algorithms for Dynamically Varying Environments pdf\n",
      "A Su A Survey on Bias and Fairness in Machine Learning pdf\n",
      "A Su A Survey on Deep Transfer Learning and Beyond pdf\n",
      "A Su A Survey on Green Deep Learning pdf\n",
      "A Su A Survey on Tensor Techniques and Applications in Machine Learning pdf\n",
      "A Su A Survey on the Explainability of Supervised Machine Learning pdf\n",
      "A Sy A Systematic Review of Green AI pdf\n",
      "ALBE ALBERT A Lite BERT for Self supervised Learning of Language Representations pdf\n",
      "An A An Analysis of Deep Neural Network Models for Practical Applications pdf\n",
      "An e An empirical study of practitioners  perspectives on green software engineering pdf\n",
      "Atte Attention Is All You Need pdf\n",
      "Auto AutoML A survey of the state of the art pdf\n",
      "BERT BERT Pre training of Deep Bidirectional Transformers for Language Understanding pdf\n",
      "Bina Binaryconnect Training deep neural networks with binary weights during propagations pdf\n",
      "BioB BioBERT a pre trained biomedical language representation model for biomedical text mining pdf\n",
      "Can  Can programming be liberated from the von Neumann style A functional style and its algebra of programs pdf\n",
      "Carb Carbon Emissions and Large Neural Network Training pdf\n",
      "Carb Carbontracker Tracking and Predicting the Carbon Footprint of Training Deep Learning Models pdf\n",
      "Cell Cellular neural networks theory pdf\n",
      "Chas Chasing Carbon The Elusive Environmental Footprint of Computing pdf\n",
      "Clin ClinicalBERT Modeling Clinical Notes and Predicting Hospital Readmission pdf\n",
      "Comp Computer Architecture A Quantitative Approach  th edition pdf\n",
      "Conc Conceptual Dependency Theory pdf\n",
      "Data Data Centric Green AI an exploratory empirical study pdf\n",
      "Deep Deep Residual Learning for Image Recognition pdf\n",
      "Dist DistilBERT  a distilled version of BERT smaller  faster  cheaper and lighter pdf\n",
      "Dyna Dynamic Neural Turing Machine with Soft and Hard Addressing Schemes pdf\n",
      "Earl EarlyBERT Efficient BERT Training via Early bird Lottery Tickets pdf\n",
      "Effi Efficient Transformer based Large Scale Language Representations using Hardware friendly Block Structured Pruning pdf\n",
      "Effi Efficient Transformers A Survey pdf\n",
      "EIE  EIE Efficient Inference Engine on Compressed Deep Neural Network pdf\n",
      "Ener Energy and Policy Considerations for Deep Learning in NLP pdf\n",
      "Ener Energy and Policy Considerations for Modern Deep Learning Research pdf\n",
      "Ener EnergyVis Interactively Tracking and Exploring Energy Consumption for ML Models pdf\n",
      "Ener Energyware Engineering Techniques and Tools for green software development pdf\n",
      "Evol Evolving Neural Turing Machines for Reward based Learning pdf\n",
      "Expl Explainable Deep Learning  A Field Guide for the Uninitiated pdf\n",
      "Expl Exploring the Limits of Transfer Learning with a Unified Text to Text Transformer pdf\n",
      "Firs First draft of a report on the EDVAC pdf\n",
      "From From Anecdotal Evidence to Quantitative Evaluation Methods A Systematic Review on Evaluating Explainable AI pdf\n",
      "Gene General tensor decomposition  moment matrices and applications pdf\n",
      "Gene Generative Adversarial Networks in Computer Vision A Survey and Taxonomy pdf\n",
      "Gree Green AI Do Deep Learning Frameworks Have Different Costs pdf\n",
      "Gree Green AI Schwartz  pdf\n",
      "Gree Green AI Schwartz   versione pi  recente leggermente diversa pdf\n",
      "Gree Green AI tackles effects of AI  ML on climate change pdf\n",
      "Gree Green Algorithms Quantifying the carbon footprint of computation pdf\n",
      "Gree Green Learning Introduction  Examples and Outlook pdf\n",
      "How  How to Fine Tune BERT for Text Classification pdf\n",
      "HRan HRank Filter Pruning using High Rank Feature Map pdf\n",
      "Hype HyperMixer An MLP based Green AI Alternative to Transformers pdf\n",
      "Impr Improving Language Understanding by Generative Pre Training pdf\n",
      "Intr Introduction to Tensor Decompositions and their Applications in Machine Learning pdf\n",
      "Is t Is the future of AI sustainable A case study of the EU pdf\n",
      "Know Knowledge Distillation A Survey pdf\n",
      "Larg Large Scale Adversarial Representation Learning pdf\n",
      "Larg Large Scale GAN Training for High Fidelity Natural Image Synthesis pdf\n",
      "Lear Learning in the machine To share or not to share pdf\n",
      "Lie  Lie Access Neural Turing Machine pdf\n",
      "Long Long Short Term Memory pdf\n",
      "Meas Measuring the Effects of Data Parallelism on Neural Network Training pdf\n",
      "Meas Measuring the environmental impacts of artificial intelligence compute and applications pdf\n",
      "Mega Megatron LM Training Multi Billion Parameter Language Models Using Model Parallelism pdf\n",
      "Memo Memory augmented recurrent neural networks for de novo drug design pdf\n",
      "Mobi MobileNets Efficient Convolutional Neural Networks for Mobile Vision Applications pdf\n",
      "Mode Model compression via distillation and quantization pdf\n",
      "Mult Multi node Bert pretraining Cost efficient Approach pdf\n",
      "Natu Natural Language Processing A Historical Review pdf\n",
      "Natu Natural Language Processing History  Evolution  Application  and Future Work pdf\n",
      "Net  Net Trim Convex Pruning of Deep Neural Networks with Performance Guarantee pdf\n",
      "Netw Networks of spiking neurons The third generation of neural network models pdf\n",
      "Neur Neural networks and physical systems with emergent collective computational abilities pdf\n",
      "Neur Neural Parameter Allocation Search Saenko versione pi  recente leggermente diversa pdf\n",
      "Neur Neural Parameter Allocation Search Saenko pdf\n",
      "Neur Neural Random Access Machines pdf\n",
      "Neur Neural Turing Machines pdf\n",
      "Nonl Nonlinear principal component analysis using autoassociative neural networks pdf\n",
      "On C On Computable Numbers  with an Application to the Entscheidungsproblem pdf\n",
      "On t On the Dangers of Stochastic Parrots Can Language Models Be Too Big pdf\n",
      "One  One shot priuning of RNNs by Jacobian Spectrum Evaluation pdf\n",
      "One  One weird trick for parallelizing convolutional neural networks pdf\n",
      "Posi Position Masking for Language Models pdf\n",
      "Pred Predicting Parameters in Deep Learning pdf\n",
      "Quan Quantifying the Carbon Emissions of Machine Learning pdf\n",
      "Quan Quantitative AI Risk Assessments pdf\n",
      "Quan Quantitative Evaluation of Machine Learning Explanations A Human Grounded Benchmark pdf\n",
      "Quan Quantized Convolutional Neural Networks for Mobile Devices pdf\n",
      "Rein Reinforcement Learning Neural Turing Machines   Revised pdf\n",
      "Reve Revealing the Dark Secrets of BERT pdf\n",
      "RoBE RoBERTa A Robustly Optimized BERT Pretraining Approach pdf\n",
      "Self Self organized formation of topologically correct feature maps pdf\n",
      "Span SpanBERT Improving Pre training by Representing and Predicting Spans pdf\n",
      "Spar Sparse networks from scratch Faster training without losing performance pdf\n",
      "Spee Speed accuracy trade offs for modern convolutional object detectors pdf\n",
      "Stru Structured Transforms for Small Footprint Deep Learning pdf\n",
      "Stud StudioGAN A Taxonomy and Benchmark of GANs for Image Synthesis pdf\n",
      "Sust Sustainability challenges of Artificial Intelligence and Policy Implications pdf\n",
      "Sust Sustainable AI AI for sustainability and the sustainability of AI pdf\n",
      "Sust Sustainable AI Environmental Implications Challenges and Opportunities pdf\n",
      "Tens Tensor Decompositions and Applications pdf\n",
      "The  The Carbon Footprint of Machine Learning Training Will Plateau  Then Shrink pdf\n",
      "The  The lottery ticket hypothesis finding sparse  trainable neural networks pdf\n",
      "The  The role of artificial intelligence in achieving the pdf\n",
      "The  The Unreasonable effctiveness of data pdf\n",
      "Towa Towards Sustainable Artificial Intelligence An Overview of Environmental Protection Uses and Issues pdf\n",
      "Towa Towards the Systematic Reporting of the Energy and Carbon Footprints of Machine Learning pdf\n",
      "Tran Transformer XL Attentive Language Models Beyond a Fixed Length Context pdf\n",
      "Unsu Unsupervised Cross lingual Representation Learning at Scale pdf\n",
      "XLNe XLNet Generalized Autoregressive Pretraining for Language Understanding pdf\n"
     ]
    }
   ],
   "source": [
    "for index in range(len(shortnames)):\n",
    "    print(shortnames[index], names[index])"
   ]
  },
  {
   "cell_type": "code",
   "execution_count": 16,
   "id": "5e4ba23d",
   "metadata": {},
   "outputs": [
    {
     "data": {
      "image/png": "[encoded data removed]",
      "text/plain": [
       "<Figure size 640x480 with 1 Axes>"
      ]
     },
     "metadata": {},
     "output_type": "display_data"
    }
   ],
   "source": [
    "import matplotlib.pyplot as plt\n",
    "from sklearn.cluster import KMeans\n",
    "Sum_of_squared_distances = []\n",
    "K = range(2,10)\n",
    "for k in K:\n",
    "   km = KMeans(n_clusters=k, init='random', max_iter=200, n_init=10)\n",
    "   km = km.fit(X)\n",
    "   Sum_of_squared_distances.append(km.inertia_)\n",
    "plt.plot(K, Sum_of_squared_distances, 'bx-')\n",
    "plt.xlabel('k')\n",
    "plt.ylabel('Sum_of_squared_distances')\n",
    "plt.title('Elbow Method For Optimal k')\n",
    "plt.show()"
   ]
  },
  {
   "cell_type": "code",
   "execution_count": 17,
   "id": "3c37c37c",
   "metadata": {},
   "outputs": [
    {
     "data": {
      "text/plain": [
       "array([3, 3, 1, 1, 1, 2, 0, 1, 1, 1, 2, 2, 2, 1, 0, 3, 2, 1, 3, 1, 0, 2,\n",
       "       1, 2, 1, 3, 3, 4, 3, 2, 1, 1, 3, 1, 2, 1, 2, 2, 2, 1, 3, 3, 3, 3,\n",
       "       1, 0, 2, 1, 0, 1, 1, 3, 2, 2, 4, 3, 2, 2, 1, 2, 2, 1, 3, 2, 1, 1,\n",
       "       1, 1, 1, 1, 3, 2, 1, 1, 1, 2, 1, 1, 1, 1, 0, 2, 2, 1, 1, 1, 1, 2,\n",
       "       1, 1, 2, 1, 3, 1, 0, 1, 1, 2, 2, 1, 2, 1, 1, 1, 2, 3, 3, 3, 1, 3,\n",
       "       1, 1, 1, 3, 3, 1, 2, 2])"
      ]
     },
     "execution_count": 17,
     "metadata": {},
     "output_type": "execute_result"
    }
   ],
   "source": [
    "true_k = 5\n",
    "model = KMeans(n_clusters=true_k, init='k-means++', max_iter=200, n_init=10)\n",
    "model.fit(X)\n",
    "labels=model.labels_\n",
    "labels"
   ]
  },
  {
   "cell_type": "code",
   "execution_count": 18,
   "id": "2665a1aa",
   "metadata": {},
   "outputs": [],
   "source": [
    "df = pd.DataFrame(list(zip(names,labels)),columns=['Article','Cluster'])\n",
    "df_s= df.sort_values(by=['Cluster'])\n",
    "df_s.to_csv(\"clusters.csv\")\n"
   ]
  },
  {
   "cell_type": "code",
   "execution_count": 20,
   "id": "a31bb162",
   "metadata": {},
   "outputs": [],
   "source": [
    "#pdf = pdfx.PDFx(\"01. Energy and Policy Considerations for Deep Learning in NLP.pdf\")\n",
    "#metadata = pdf.get_metadata()\n",
    "#references_list = pdf.get_references()\n",
    "#references_dict = pdf.get_references_as_dict()\n",
    "#pdf.download_pdfs(\"target-directory\")"
   ]
  }
 ],
 "metadata": {
  "kernelspec": {
   "display_name": "Python 3 (ipykernel)",
   "language": "python",
   "name": "python3"
  },
  "language_info": {
   "codemirror_mode": {
    "name": "ipython",
    "version": 3
   },
   "file_extension": ".py",
   "mimetype": "text/x-python",
   "name": "python",
   "nbconvert_exporter": "python",
   "pygments_lexer": "ipython3",
   "version": "3.9.13"
  }
 },
 "nbformat": 4,
 "nbformat_minor": 5
}
