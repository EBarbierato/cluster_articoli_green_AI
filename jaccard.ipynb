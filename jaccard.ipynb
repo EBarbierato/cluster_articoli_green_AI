{
 "cells": [
  {
   "cell_type": "code",
   "execution_count": null,
   "id": "cef2789b",
   "metadata": {},
   "outputs": [],
   "source": [
    "import re\n",
    "from os import system as s\n",
    "from PyPDF2 import PdfReader\n",
    "from nltk.corpus import stopwords\n",
    "from nltk.tokenize import word_tokenize\n",
    "import nltk\n",
    "nltk.download('punkt')\n",
    "\n",
    "# Uncomment the following two lines on the first run\n",
    "# nltk.download('punkt')\n",
    "# nltk.download('stopwords')\n",
    "\n",
    "try:\n",
    "    stopwords.words('english')\n",
    "except LookupError:\n",
    "    print(\"Downloading NLTK stopwords...\")\n",
    "    nltk.download('stopwords')\n",
    "\n",
    "s(\"cls\")\n",
    "\n",
    "def remove_redundant_words(text):\n",
    "    words = word_tokenize(text)\n",
    "    filtered_words = [word for word in words if word.lower()\n",
    "                      not in stopwords.words('english')]\n",
    "\n",
    "    return ' '.join(filtered_words)\n",
    "\n",
    "\n",
    "def extract_pdf_text(pdf_file):\n",
    "    with open(pdf_file, 'rb') as file:\n",
    "        pdf = PdfReader(file)\n",
    "        number_of_pages = len(pdf.pages)\n",
    "        text = ''\n",
    "        for page in range(number_of_pages):\n",
    "            text += pdf.pages[page].extract_text()\n",
    "\n",
    "    return text\n",
    "\n",
    "\n",
    "def jaccard_similarity(text1, text2):\n",
    "    text1, text2 = set(remove_redundant_words(re.sub(r'[^\\w\\s]', '', text1.lower())).split()), set(remove_redundant_words(re.sub(r'[^\\w\\s]', '', text2.lower())).split())\n",
    "    intersection = text1.intersection(text2)\n",
    "    union = text1.union(text2)\n",
    "    jaccard_index = len(intersection) / len(union)\n",
    "\n",
    "    return round(jaccard_index, 2) * 100\n",
    "\n",
    "\n",
    "pdf1 = extract_pdf_text(path+\"\\\\A Primer in BERTology What We Know About How BERT Works.pdf\")\n",
    "pdf2 = extract_pdf_text(path+\"\\\\BERT Pre-training of Deep Bidirectional Transformers for Language Understanding.pdf\")\n",
    "print(jaccard_similarity(pdf1, pdf2), \"percent similar\")"
   ]
  },
  {
   "cell_type": "code",
   "execution_count": null,
   "id": "90dd7f74",
   "metadata": {},
   "outputs": [],
   "source": [
    "pdf1 = extract_pdf_text(path+\"\\\\A Survey on Green Deep Learning.pdf\")\n",
    "pdf2 = extract_pdf_text(path+\"\\\\A Survey on Tensor Techniques and Applications in Machine Learning.pdf\")\n",
    "print(jaccard_similarity(pdf1, pdf2), \"percent similar\")"
   ]
  },
  {
   "cell_type": "code",
   "execution_count": null,
   "id": "7b70c5ec",
   "metadata": {},
   "outputs": [],
   "source": [
    "pdf1 = extract_pdf_text(path+\"\\\\A Green(er) World for A.I..pdf\")\n",
    "pdf2 = extract_pdf_text(path+\"\\\\A Survey on Green Deep Learning.pdf\")\n",
    "print(jaccard_similarity(pdf1, pdf2), \"percent similar\")"
   ]
  }
 ],
 "metadata": {
  "kernelspec": {
   "display_name": "Python 3 (ipykernel)",
   "language": "python",
   "name": "python3"
  },
  "language_info": {
   "codemirror_mode": {
    "name": "ipython",
    "version": 3
   },
   "file_extension": ".py",
   "mimetype": "text/x-python",
   "name": "python",
   "nbconvert_exporter": "python",
   "pygments_lexer": "ipython3",
   "version": "3.9.13"
  }
 },
 "nbformat": 4,
 "nbformat_minor": 5
}
